{
  "nbformat": 4,
  "nbformat_minor": 0,
  "metadata": {
    "colab": {
      "name": "nishimuraa.ipynb",
      "provenance": [],
      "collapsed_sections": [],
      "authorship_tag": "ABX9TyMiW8mS6xf7bMB5NlrGU5d8",
      "include_colab_link": true
    },
    "kernelspec": {
      "name": "python3",
      "display_name": "Python 3"
    },
    "language_info": {
      "name": "python"
    }
  },
  "cells": [
    {
      "cell_type": "markdown",
      "metadata": {
        "id": "view-in-github",
        "colab_type": "text"
      },
      "source": [
        "<a href=\"https://colab.research.google.com/github/nalgo-intern/kyushu/blob/main/nishimura_test.ipynb\" target=\"_parent\"><img src=\"https://colab.research.google.com/assets/colab-badge.svg\" alt=\"Open In Colab\"/></a>"
      ]
    },
    {
      "cell_type": "code",
      "metadata": {
        "id": "p-jkFf4nMA-y"
      },
      "source": [
        "git clone https://github.com/libgit2/libgit2"
      ],
      "execution_count": null,
      "outputs": []
    },
    {
      "cell_type": "code",
      "metadata": {
        "id": "0e65LP29e2ld"
      },
      "source": [
        "!unzip dataset.zip #解凍：ここを変更。「dataset」のところをアップロードしたzipファイル名に変更してください。　- ファイルを消す場合「!rm data.zip」"
      ],
      "execution_count": null,
      "outputs": []
    },
    {
      "cell_type": "code",
      "metadata": {
        "id": "35wedmf1HM4l",
        "colab": {
          "base_uri": "https://localhost:8080/"
        },
        "outputId": "7142f048-63fb-4731-f6d2-9b2414201dfc"
      },
      "source": [
        "from google.colab import drive\n",
        "drive.mount('/content/drive')"
      ],
      "execution_count": 1,
      "outputs": [
        {
          "output_type": "stream",
          "text": [
            "Mounted at /content/drive\n"
          ],
          "name": "stdout"
        }
      ]
    },
    {
      "cell_type": "code",
      "metadata": {
        "colab": {
          "base_uri": "https://localhost:8080/"
        },
        "id": "_aBD51zYeFmR",
        "outputId": "7dc2a34b-2bd3-44f4-b5ce-b728c06f2cdc"
      },
      "source": [
        "%cd /content/drive/MyDrive/Colab Notebooks"
      ],
      "execution_count": 4,
      "outputs": [
        {
          "output_type": "stream",
          "text": [
            "/content/drive/MyDrive/Colab Notebooks\n"
          ],
          "name": "stdout"
        }
      ]
    },
    {
      "cell_type": "code",
      "metadata": {
        "id": "gFawUzKlhfrs"
      },
      "source": [
        "#1 ライブラリのインポート等\n",
        "\n",
        "import keras\n",
        "import glob\n",
        "import numpy as np\n",
        "from sklearn.model_selection import train_test_split\n",
        "from keras.preprocessing.image import load_img, img_to_array\n",
        "from keras.models import Sequential\n",
        "from keras.layers import Conv2D, MaxPooling2D\n",
        "from keras.layers import Dense, Dropout, Flatten\n",
        "#from keras.utils import plot_model #これはKerasのバージョンなどにより使えないのでコメントアウト\n",
        "from keras.utils import np_utils #keras.utils.to_categoricalでエラーが出るので追加\n",
        "#from keras.optimizers import Adam\n",
        "from tensorflow.keras.optimizers import Adam\n",
        "import matplotlib.pyplot as plt\n",
        "import time"
      ],
      "execution_count": 11,
      "outputs": []
    },
    {
      "cell_type": "code",
      "metadata": {
        "id": "ioL97Tx55Nmk",
        "colab": {
          "base_uri": "https://localhost:8080/"
        },
        "outputId": "0835c758-4b07-422e-9df8-f04a09632a43"
      },
      "source": [
        "#2 各種設定 \n",
        "\n",
        "train_data_path = 'dataset' # ここを変更。Colaboratoryにアップロードしたzipファイルを解凍後の、データセットのフォルダ名を入力\n",
        "\n",
        "image_size = 80 # ここを変更。必要に応じて変更してください。「28」を指定した場合、縦28横28ピクセルの画像に変換します。\n",
        "\n",
        "color_setting = 3  #ここを変更。データセット画像のカラー：「1」はモノクロ・グレースケール。「3」はカラー。\n",
        "\n",
        "folder = ['high', 'mid', 'low'] # ここを変更。データセット画像のフォルダ名（クラス名）を半角英数で入力\n",
        "\n",
        "class_number = len(folder)\n",
        "print('今回のデータで分類するクラス数は「', str(class_number), '」です。')\n"
      ],
      "execution_count": 12,
      "outputs": [
        {
          "output_type": "stream",
          "text": [
            "今回のデータで分類するクラス数は「 3 」です。\n"
          ],
          "name": "stdout"
        }
      ]
    },
    {
      "cell_type": "code",
      "metadata": {
        "id": "IIzdLPdT7HyZ",
        "colab": {
          "base_uri": "https://localhost:8080/"
        },
        "outputId": "4abb2bba-60f9-448d-8ef8-4b00b92dea53"
      },
      "source": [
        "#3 データセットの読み込みとデータ形式の設定・正規化・分割 \n",
        "\n",
        "X_image = []  \n",
        "Y_label = [] \n",
        "for index, name in enumerate(folder):\n",
        "  read_data = train_data_path + '/' + name\n",
        "  files = glob.glob(read_data + '/*.png') #ここを変更。png形式のファイルを利用する場合のサンプルです。\n",
        "  print('--- 読み込んだデータセットは', read_data, 'です。')\n",
        "\n",
        "  for i, file in enumerate(files):  \n",
        "    if color_setting == 1:\n",
        "      img = load_img(file, color_mode = 'grayscale' ,target_size=(image_size, image_size))  \n",
        "    elif color_setting == 3:\n",
        "      img = load_img(file, color_mode = 'rgb' ,target_size=(image_size, image_size))\n",
        "    array = img_to_array(img)\n",
        "    X_image.append(array)\n",
        "    Y_label.append(index)\n",
        "\n",
        "X_image = np.array(X_image)\n",
        "Y_label = np.array(Y_label)\n",
        "\n",
        "X_image = X_image.astype('float32') / 255\n",
        "#Y_label = keras.utils.to_categorical(Y_label, class_number) #Kerasのバージョンなどにより使えないのでコメントアウト\n",
        "Y_label = np_utils.to_categorical(Y_label, class_number) #上記のコードのかわり\n",
        "\n",
        "train_images, valid_images, train_labels, valid_labels = train_test_split(X_image, Y_label, test_size=0.10)\n",
        "x_train = train_images\n",
        "y_train = train_labels\n",
        "x_test = valid_images\n",
        "y_test = valid_labels"
      ],
      "execution_count": 13,
      "outputs": [
        {
          "output_type": "stream",
          "text": [
            "--- 読み込んだデータセットは dataset/high です。\n",
            "--- 読み込んだデータセットは dataset/mid です。\n",
            "--- 読み込んだデータセットは dataset/low です。\n"
          ],
          "name": "stdout"
        }
      ]
    },
    {
      "cell_type": "code",
      "metadata": {
        "id": "EqkFYulI7Ng1",
        "colab": {
          "base_uri": "https://localhost:8080/",
          "height": 1000
        },
        "outputId": "68701292-5283-49cc-969e-c6862a2f5859"
      },
      "source": [
        "#4 機械学習（人工知能）モデルの作成 – 畳み込みニューラルネットワーク（CNN）・学習の実行等\n",
        "\n",
        "model = Sequential()\n",
        "model.add(Conv2D(16, (3, 3), padding='same',\n",
        "          input_shape=(image_size, image_size, color_setting), activation='relu'))\n",
        "model.add(MaxPooling2D(pool_size=(2, 2)))               \n",
        "model.add(Conv2D(128, (3, 3), padding='same', activation='relu'))\n",
        "model.add(Conv2D(256, (3, 3), padding='same', activation='relu'))\n",
        "model.add(MaxPooling2D(pool_size=(2, 2)))                \n",
        "model.add(Dropout(0.5))                                   \n",
        "model.add(Flatten())\n",
        "model.add(Dense(128, activation='relu'))\n",
        "model.add(Dropout(0.25))                                 \n",
        "model.add(Dense(class_number, activation='softmax'))\n",
        "\n",
        "model.summary()\n",
        "#plot_model(model, to_file='model.png') #ここはKerasのバージョンなどにより使えないのでコメントアウト\n",
        "\n",
        "model.compile(loss='categorical_crossentropy',\n",
        "              optimizer=Adam(),\n",
        "              metrics=['accuracy'])\n",
        "\n",
        "start_time = time.time()\n",
        "\n",
        "# ここを変更。必要に応じて「batch_size=」「epochs=」の数字を変更してみてください。\n",
        "history = model.fit(x_train,y_train, batch_size=2, epochs=5, verbose=1, validation_data=(x_test, y_test))\n",
        "\n",
        "plt.plot(history.history['accuracy'])\n",
        "plt.plot(history.history['val_accuracy'])\n",
        "plt.title('Model accuracy')\n",
        "plt.ylabel('Accuracy')\n",
        "plt.xlabel('Epoch')\n",
        "plt.grid()\n",
        "plt.legend(['Train', 'Validation'], loc='upper left')\n",
        "plt.show()\n",
        "\n",
        "plt.plot(history.history['loss'])\n",
        "plt.plot(history.history['val_loss'])\n",
        "plt.title('Model loss')\n",
        "plt.ylabel('Loss')\n",
        "plt.xlabel('Epoch')\n",
        "plt.grid()\n",
        "plt.legend(['Train', 'Validation'], loc='upper left')\n",
        "plt.show()\n",
        "\n",
        "open('cnn_model.json','w').write(model.to_json())\n",
        "model.save_weights('cnn_weights.h5') \n",
        "#model.save('cnn_model_weight.h5') #モデル構造と重みを1つにまとめることもできます\n",
        "\n",
        "score = model.evaluate(x_test, y_test, verbose=0)\n",
        "print('Loss:', score[0], '（損失関数値 - 0に近いほど正解に近い）') \n",
        "print('Accuracy:', score[1] * 100, '%', '（精度 - 100% に近いほど正解に近い）') \n",
        "print('Computation time（計算時間）:{0:.3f} sec（秒）'.format(time.time() - start_time))"
      ],
      "execution_count": 14,
      "outputs": [
        {
          "output_type": "stream",
          "text": [
            "Model: \"sequential_1\"\n",
            "_________________________________________________________________\n",
            "Layer (type)                 Output Shape              Param #   \n",
            "=================================================================\n",
            "conv2d_3 (Conv2D)            (None, 80, 80, 16)        448       \n",
            "_________________________________________________________________\n",
            "max_pooling2d_2 (MaxPooling2 (None, 40, 40, 16)        0         \n",
            "_________________________________________________________________\n",
            "conv2d_4 (Conv2D)            (None, 40, 40, 128)       18560     \n",
            "_________________________________________________________________\n",
            "conv2d_5 (Conv2D)            (None, 40, 40, 256)       295168    \n",
            "_________________________________________________________________\n",
            "max_pooling2d_3 (MaxPooling2 (None, 20, 20, 256)       0         \n",
            "_________________________________________________________________\n",
            "dropout_2 (Dropout)          (None, 20, 20, 256)       0         \n",
            "_________________________________________________________________\n",
            "flatten_1 (Flatten)          (None, 102400)            0         \n",
            "_________________________________________________________________\n",
            "dense_2 (Dense)              (None, 128)               13107328  \n",
            "_________________________________________________________________\n",
            "dropout_3 (Dropout)          (None, 128)               0         \n",
            "_________________________________________________________________\n",
            "dense_3 (Dense)              (None, 3)                 387       \n",
            "=================================================================\n",
            "Total params: 13,421,891\n",
            "Trainable params: 13,421,891\n",
            "Non-trainable params: 0\n",
            "_________________________________________________________________\n",
            "Epoch 1/5\n",
            "9/9 [==============================] - 3s 300ms/step - loss: 1.3821 - accuracy: 0.5882 - val_loss: 1.0177 - val_accuracy: 0.5000\n",
            "Epoch 2/5\n",
            "9/9 [==============================] - 3s 276ms/step - loss: 1.2036 - accuracy: 0.6471 - val_loss: 0.9563 - val_accuracy: 0.5000\n",
            "Epoch 3/5\n",
            "9/9 [==============================] - 2s 273ms/step - loss: 1.0085 - accuracy: 0.6471 - val_loss: 0.9912 - val_accuracy: 0.5000\n",
            "Epoch 4/5\n",
            "9/9 [==============================] - 2s 275ms/step - loss: 0.9717 - accuracy: 0.6471 - val_loss: 0.9091 - val_accuracy: 0.5000\n",
            "Epoch 5/5\n",
            "9/9 [==============================] - 3s 280ms/step - loss: 0.8331 - accuracy: 0.6471 - val_loss: 1.2077 - val_accuracy: 0.5000\n"
          ],
          "name": "stdout"
        },
        {
          "output_type": "display_data",
          "data": {
            "image/png": "[encoded data removed]",
            "text/plain": [
              "<Figure size 432x288 with 1 Axes>"
            ]
          },
          "metadata": {
            "needs_background": "light"
          }
        },
        {
          "output_type": "display_data",
          "data": {
            "image/png": "[encoded data removed]",
            "text/plain": [
              "<Figure size 432x288 with 1 Axes>"
            ]
          },
          "metadata": {
            "needs_background": "light"
          }
        },
        {
          "output_type": "stream",
          "text": [
            "Loss: 1.2077124118804932 （損失関数値 - 0に近いほど正解に近い）\n",
            "Accuracy: 50.0 % （精度 - 100% に近いほど正解に近い）\n",
            "Computation time（計算時間）:14.789 sec（秒）\n"
          ],
          "name": "stdout"
        }
      ]
    },
    {
      "cell_type": "code",
      "metadata": {
        "id": "OVThVdnX7N73"
      },
      "source": [
        ""
      ],
      "execution_count": 14,
      "outputs": []
    },
    {
      "cell_type": "code",
      "metadata": {
        "id": "1Vf3SYl37ODs"
      },
      "source": [
        ""
      ],
      "execution_count": 14,
      "outputs": []
    }
  ]
}